{
  "nbformat": 4,
  "nbformat_minor": 0,
  "metadata": {
    "colab": {
      "name": "0601.ipynb",
      "provenance": [],
      "authorship_tag": "ABX9TyN+SRtA4y0VfLCOtxVfh7tC",
      "include_colab_link": true
    },
    "kernelspec": {
      "name": "python3",
      "display_name": "Python 3"
    },
    "language_info": {
      "name": "python"
    }
  },
  "cells": [
    {
      "cell_type": "markdown",
      "metadata": {
        "id": "view-in-github",
        "colab_type": "text"
      },
      "source": [
        "<a href=\"https://colab.research.google.com/github/02shan/Introduction-to-Computers/blob/main/0601.ipynb\" target=\"_parent\"><img src=\"https://colab.research.google.com/assets/colab-badge.svg\" alt=\"Open In Colab\"/></a>"
      ]
    },
    {
      "cell_type": "code",
      "execution_count": 225,
      "metadata": {
        "colab": {
          "base_uri": "https://localhost:8080/"
        },
        "id": "fGK5wCqKk8PY",
        "outputId": "d039c2ce-6d8c-4164-9278-be970d493c44"
      },
      "outputs": [
        {
          "output_type": "stream",
          "name": "stdout",
          "text": [
            "0601\n"
          ]
        }
      ],
      "source": [
        "print('0601')"
      ]
    },
    {
      "cell_type": "code",
      "source": [
        "for i in range(2,10):\n",
        "    for j in range(1,10):\n",
        "        product =  i * j\n",
        "        print('%d * %d = %2d' %(i , j, product), end =\" \")\n",
        "    print()"
      ],
      "metadata": {
        "colab": {
          "base_uri": "https://localhost:8080/"
        },
        "id": "-tg07usdnecT",
        "outputId": "a8d1deb6-fb1d-4205-fa93-65488dcf0e46"
      },
      "execution_count": 226,
      "outputs": [
        {
          "output_type": "stream",
          "name": "stdout",
          "text": [
            "2 * 1 =  2 2 * 2 =  4 2 * 3 =  6 2 * 4 =  8 2 * 5 = 10 2 * 6 = 12 2 * 7 = 14 2 * 8 = 16 2 * 9 = 18 \n",
            "3 * 1 =  3 3 * 2 =  6 3 * 3 =  9 3 * 4 = 12 3 * 5 = 15 3 * 6 = 18 3 * 7 = 21 3 * 8 = 24 3 * 9 = 27 \n",
            "4 * 1 =  4 4 * 2 =  8 4 * 3 = 12 4 * 4 = 16 4 * 5 = 20 4 * 6 = 24 4 * 7 = 28 4 * 8 = 32 4 * 9 = 36 \n",
            "5 * 1 =  5 5 * 2 = 10 5 * 3 = 15 5 * 4 = 20 5 * 5 = 25 5 * 6 = 30 5 * 7 = 35 5 * 8 = 40 5 * 9 = 45 \n",
            "6 * 1 =  6 6 * 2 = 12 6 * 3 = 18 6 * 4 = 24 6 * 5 = 30 6 * 6 = 36 6 * 7 = 42 6 * 8 = 48 6 * 9 = 54 \n",
            "7 * 1 =  7 7 * 2 = 14 7 * 3 = 21 7 * 4 = 28 7 * 5 = 35 7 * 6 = 42 7 * 7 = 49 7 * 8 = 56 7 * 9 = 63 \n",
            "8 * 1 =  8 8 * 2 = 16 8 * 3 = 24 8 * 4 = 32 8 * 5 = 40 8 * 6 = 48 8 * 7 = 56 8 * 8 = 64 8 * 9 = 72 \n",
            "9 * 1 =  9 9 * 2 = 18 9 * 3 = 27 9 * 4 = 36 9 * 5 = 45 9 * 6 = 54 9 * 7 = 63 9 * 8 = 72 9 * 9 = 81 \n"
          ]
        }
      ]
    },
    {
      "cell_type": "markdown",
      "source": [
        "最小公倍數"
      ],
      "metadata": {
        "id": "UhbS2fwOpCw9"
      }
    },
    {
      "cell_type": "code",
      "source": [
        "a = int(input('請輸入a的值：'))\n",
        "b = int(input('請輸入b的值：'))\n",
        "\n",
        "maxno = a * b\n",
        "for i in range(1,maxno+1):\n",
        "    if (i % a == 0 and i % b == 0):\n",
        "        break\n",
        "print('%d 和 %d的最小公倍數= %d' %(a,b,i))"
      ],
      "metadata": {
        "colab": {
          "base_uri": "https://localhost:8080/"
        },
        "id": "KKit4A1WnfW5",
        "outputId": "40b16497-f99a-49f9-acb7-42c5ae5c5865"
      },
      "execution_count": 227,
      "outputs": [
        {
          "output_type": "stream",
          "name": "stdout",
          "text": [
            "請輸入a的值：4\n",
            "請輸入b的值：5\n",
            "4 和 5的最小公倍數= 20\n"
          ]
        }
      ]
    },
    {
      "cell_type": "markdown",
      "source": [
        "數列排除5"
      ],
      "metadata": {
        "id": "B7_8V5k3qVS5"
      }
    },
    {
      "cell_type": "code",
      "source": [
        "n = int(input('請輸入一個正整數：'))\n",
        "for i in range(1,n+1):\n",
        "    if i % 5 == 0:\n",
        "       continue\n",
        "    print(i,end=' ')"
      ],
      "metadata": {
        "colab": {
          "base_uri": "https://localhost:8080/"
        },
        "id": "7LYNuEngnfaP",
        "outputId": "b0729874-62c6-42a6-8ec6-3abeb2e35d75"
      },
      "execution_count": 229,
      "outputs": [
        {
          "output_type": "stream",
          "name": "stdout",
          "text": [
            "請輸入一個正整數：18\n",
            "1 2 3 4 6 7 8 9 11 12 13 14 16 17 18 "
          ]
        }
      ]
    },
    {
      "cell_type": "markdown",
      "source": [
        "while"
      ],
      "metadata": {
        "id": "kX-c84hZsqJS"
      }
    },
    {
      "cell_type": "code",
      "source": [
        "total = n = 0\n",
        "while (n < 10):\n",
        "    n += 1\n",
        "    total += n\n",
        "print(total)"
      ],
      "metadata": {
        "colab": {
          "base_uri": "https://localhost:8080/"
        },
        "id": "4xaLwvvssI7-",
        "outputId": "85b3da30-7d3b-4792-a115-6dc49f4f7241"
      },
      "execution_count": 230,
      "outputs": [
        {
          "output_type": "stream",
          "name": "stdout",
          "text": [
            "55\n"
          ]
        }
      ]
    },
    {
      "cell_type": "code",
      "source": [
        "total = n = 0\n",
        "while (n <= 10):\n",
        "    total += n\n",
        "    n += 1\n",
        "print(total)"
      ],
      "metadata": {
        "colab": {
          "base_uri": "https://localhost:8080/"
        },
        "id": "6zFm8dZKsJ-H",
        "outputId": "32459ebf-177f-4320-9605-a85d4f211093"
      },
      "execution_count": 232,
      "outputs": [
        {
          "output_type": "stream",
          "name": "stdout",
          "text": [
            "55\n"
          ]
        }
      ]
    },
    {
      "cell_type": "code",
      "source": [
        "total = n = 0\n",
        "while n <= 10:\n",
        "    total += n\n",
        "    n += 1\n",
        "print(total)"
      ],
      "metadata": {
        "colab": {
          "base_uri": "https://localhost:8080/"
        },
        "id": "x8LvBNHinf4w",
        "outputId": "24c8e890-16ba-4d5a-e81b-7d2b0e52f8b1"
      },
      "execution_count": 231,
      "outputs": [
        {
          "output_type": "stream",
          "name": "stdout",
          "text": [
            "55\n"
          ]
        }
      ]
    },
    {
      "cell_type": "code",
      "source": [
        "total = n = 0\n",
        "while (n <= 10):\n",
        "    total += n\n",
        "print(total)"
      ],
      "metadata": {
        "colab": {
          "base_uri": "https://localhost:8080/",
          "height": 215
        },
        "id": "Pxs_bqn-nen9",
        "outputId": "6f7d338c-1ade-46cf-ad28-1f56e44a99b0"
      },
      "execution_count": 233,
      "outputs": [
        {
          "output_type": "error",
          "ename": "KeyboardInterrupt",
          "evalue": "ignored",
          "traceback": [
            "\u001b[0;31m---------------------------------------------------------------------------\u001b[0m",
            "\u001b[0;31mKeyboardInterrupt\u001b[0m                         Traceback (most recent call last)",
            "\u001b[0;32m<ipython-input-233-e57a26a07e41>\u001b[0m in \u001b[0;36m<module>\u001b[0;34m()\u001b[0m\n\u001b[1;32m      1\u001b[0m \u001b[0mtotal\u001b[0m \u001b[0;34m=\u001b[0m \u001b[0mn\u001b[0m \u001b[0;34m=\u001b[0m \u001b[0;36m0\u001b[0m\u001b[0;34m\u001b[0m\u001b[0;34m\u001b[0m\u001b[0m\n\u001b[0;32m----> 2\u001b[0;31m \u001b[0;32mwhile\u001b[0m \u001b[0;34m(\u001b[0m\u001b[0mn\u001b[0m \u001b[0;34m<=\u001b[0m \u001b[0;36m10\u001b[0m\u001b[0;34m)\u001b[0m\u001b[0;34m:\u001b[0m\u001b[0;34m\u001b[0m\u001b[0;34m\u001b[0m\u001b[0m\n\u001b[0m\u001b[1;32m      3\u001b[0m     \u001b[0mtotal\u001b[0m \u001b[0;34m+=\u001b[0m \u001b[0mn\u001b[0m\u001b[0;34m\u001b[0m\u001b[0;34m\u001b[0m\u001b[0m\n\u001b[1;32m      4\u001b[0m \u001b[0mprint\u001b[0m\u001b[0;34m(\u001b[0m\u001b[0mtotal\u001b[0m\u001b[0;34m)\u001b[0m\u001b[0;34m\u001b[0m\u001b[0;34m\u001b[0m\u001b[0m\n",
            "\u001b[0;31mKeyboardInterrupt\u001b[0m: "
          ]
        }
      ]
    },
    {
      "cell_type": "markdown",
      "source": [
        "n!"
      ],
      "metadata": {
        "id": "xIA2UZxwvXQF"
      }
    },
    {
      "cell_type": "code",
      "source": [
        "total = i = 1 \n",
        "n= int(input('請輸入正整數n的值：'))\n",
        "while i <= n:\n",
        "    total *= i\n",
        "    i += 1\n",
        "print(\"%d!=%d\"%(n,total)) "
      ],
      "metadata": {
        "colab": {
          "base_uri": "https://localhost:8080/"
        },
        "id": "VWpRuzQFuvEN",
        "outputId": "9f7f3f0b-9094-4d90-c351-8c82a5a2697e"
      },
      "execution_count": 234,
      "outputs": [
        {
          "output_type": "stream",
          "name": "stdout",
          "text": [
            "請輸入正整數n的值：100\n",
            "100!=93326215443944152681699238856266700490715968264381621468592963895217599993229915608941463976156518286253697920827223758251185210916864000000000000000000000000\n"
          ]
        }
      ]
    },
    {
      "cell_type": "code",
      "source": [
        "total = a = 0\n",
        "while (a <= 50):\n",
        "    total += a\n",
        "    a += 2\n",
        "print('0~50的偶數和結果是',total,sep='')\n",
        "all = 0\n",
        "b = 1\n",
        "while b <= 50:\n",
        "    all += b\n",
        "    b += 2\n",
        "print('0~50的奇數和結果是',all ,sep='')"
      ],
      "metadata": {
        "colab": {
          "base_uri": "https://localhost:8080/"
        },
        "id": "LmW0F9e7neql",
        "outputId": "c9e24057-27ff-40a6-dbaf-8e253970f37b"
      },
      "execution_count": 235,
      "outputs": [
        {
          "output_type": "stream",
          "name": "stdout",
          "text": [
            "0~50的偶數和結果是650\n",
            "0~50的奇數和結果是625\n"
          ]
        }
      ]
    },
    {
      "cell_type": "code",
      "source": [
        "a = int(input('請輸入正整數：'))\n",
        "for i in range(a,0,-1):\n",
        "   for j in range(a,0,-1):\n",
        "      if j <= i:\n",
        "         print('*',end='')\n",
        "   print()"
      ],
      "metadata": {
        "colab": {
          "base_uri": "https://localhost:8080/"
        },
        "id": "FCso5twctuyH",
        "outputId": "66e7de82-64e3-47d0-987c-e1b68c21f610"
      },
      "execution_count": 236,
      "outputs": [
        {
          "output_type": "stream",
          "name": "stdout",
          "text": [
            "請輸入正整數：7\n",
            "*******\n",
            "******\n",
            "*****\n",
            "****\n",
            "***\n",
            "**\n",
            "*\n"
          ]
        }
      ]
    },
    {
      "cell_type": "code",
      "source": [
        "m = 0\n",
        "for n in range(1,101):\n",
        "    if (n % 3 == 0 or n % 7 == 0):\n",
        "        m += n\n",
        "        n += 1\n",
        "print('數值1~100中，所有是3或7倍數的數之總和=',m)"
      ],
      "metadata": {
        "colab": {
          "base_uri": "https://localhost:8080/"
        },
        "id": "yOoyleay8wUc",
        "outputId": "5e035fc3-3af4-4ea9-c6e1-2fdf12da8261"
      },
      "execution_count": 237,
      "outputs": [
        {
          "output_type": "stream",
          "name": "stdout",
          "text": [
            "數值1~100中，所有是3或7倍數的數之總和= 2208\n"
          ]
        }
      ]
    },
    {
      "cell_type": "code",
      "source": [
        "a = int(input('請輸入正整數：'))\n",
        "print('%d的因數有'%a,end=' ')\n",
        "m=1\n",
        "n=0\n",
        "while (m <= a ) :\n",
        "    if(a % m == 0):\n",
        "        n += 1\n",
        "        if(a % m == 0):\n",
        "            print(m,end=' ')\n",
        "    m += 1\n",
        "if( n == 2 ):\n",
        "    print('\\n','%d 是質數'%a,sep='')\n",
        "else:\n",
        "    print('\\n','%d 不是質數'%a,sep='')"
      ],
      "metadata": {
        "id": "RbJYhBYMka3y",
        "colab": {
          "base_uri": "https://localhost:8080/"
        },
        "outputId": "b75dbf0d-d74a-4523-da8e-65e7f899ded4"
      },
      "execution_count": 238,
      "outputs": [
        {
          "output_type": "stream",
          "name": "stdout",
          "text": [
            "請輸入正整數：20\n",
            "20的因數有 1 2 4 5 10 20 \n",
            "20 不是質數\n"
          ]
        }
      ]
    }
  ]
}