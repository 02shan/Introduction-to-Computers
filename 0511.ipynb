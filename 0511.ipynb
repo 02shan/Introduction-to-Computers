{
  "nbformat": 4,
  "nbformat_minor": 0,
  "metadata": {
    "colab": {
      "name": "0511",
      "provenance": [],
      "authorship_tag": "ABX9TyPysnDKh6l85CQLBJAsJHBT",
      "include_colab_link": true
    },
    "kernelspec": {
      "name": "python3",
      "display_name": "Python 3"
    },
    "language_info": {
      "name": "python"
    }
  },
  "cells": [
    {
      "cell_type": "markdown",
      "metadata": {
        "id": "view-in-github",
        "colab_type": "text"
      },
      "source": [
        "<a href=\"https://colab.research.google.com/github/02shan/Introduction-to-Computers/blob/main/0511.ipynb\" target=\"_parent\"><img src=\"https://colab.research.google.com/assets/colab-badge.svg\" alt=\"Open In Colab\"/></a>"
      ]
    },
    {
      "cell_type": "code",
      "execution_count": 4,
      "metadata": {
        "colab": {
          "base_uri": "https://localhost:8080/"
        },
        "id": "GBhMaNcphE8V",
        "outputId": "f3219415-809e-40a7-c3fc-fa94ea5448ef"
      },
      "outputs": [
        {
          "output_type": "stream",
          "name": "stdout",
          "text": [
            "請輸入你的體溫：32\n",
            "體溫異常，請重新測量！\n"
          ]
        }
      ],
      "source": [
        "體溫 = float(input('請輸入你的體溫：'))\n",
        "if(體溫 >= 37.5 ):\n",
        "    print('體溫過高！')\n",
        "elif(體溫 >= 37 and 體溫 <= 37.4):\n",
        "    print('體溫略高！')\n",
        "elif(體溫 >= 34 and 體溫 <= 36.9):\n",
        "    print('體溫正常！')\n",
        "else:\n",
        "    print('體溫異常，請重新量測！')"
      ]
    },
    {
      "cell_type": "code",
      "source": [
        "money = int(input('請輸入購物金額：'))\n",
        "if(money >= 10000):\n",
        "    if(money >= 100000):\n",
        "        print('八折', money * 0.8 ,end='元\\n')\n",
        "    elif(money >= 50000 ):\n",
        "        print('八五折', money * 0.85,end='元\\n')\n",
        "    elif(money >= 30000 ):\n",
        "        print('九折', money * 0.9,end='元\\n')\n",
        "    else:\n",
        "        print('九五折', money * 0.95,end='元\\n')\n",
        "else:\n",
        "    print('沒打折', money , end='元\\n')"
      ],
      "metadata": {
        "colab": {
          "base_uri": "https://localhost:8080/"
        },
        "id": "S8r0hgw5kl0I",
        "outputId": "7da66f72-4e10-44d7-c2c1-daf952fa6c41"
      },
      "execution_count": 17,
      "outputs": [
        {
          "output_type": "stream",
          "name": "stdout",
          "text": [
            "請輸入購物金額：100000\n",
            "八折 80000.0元\n"
          ]
        }
      ]
    },
    {
      "cell_type": "code",
      "source": [
        "score = int(input('請輸入成績：'))\n",
        "if(score >= 60):\n",
        "    if(score >= 90 ):\n",
        "        print('A')\n",
        "    elif(score >= 80 ):\n",
        "        print('B')\n",
        "    elif(score >= 70 ):\n",
        "        print('C')\n",
        "    else:\n",
        "        print('D')\n",
        "else:\n",
        "    print('E')"
      ],
      "metadata": {
        "colab": {
          "base_uri": "https://localhost:8080/"
        },
        "id": "an6RX7lNoJYk",
        "outputId": "6ce24d62-48ad-459f-ac61-94f054618c0a"
      },
      "execution_count": 29,
      "outputs": [
        {
          "output_type": "stream",
          "name": "stdout",
          "text": [
            "請輸入成績：50\n",
            "E\n"
          ]
        }
      ]
    },
    {
      "cell_type": "code",
      "source": [
        "month = int(input('請輸入月份：'))\n",
        "if(month >= 1 and month <= 12):\n",
        "    if(month >= 3 and month <= 5):\n",
        "        print(month,'月是春天！',sep = '')\n",
        "    elif(month >= 6 and month <=8):\n",
        "        print(month,'月是夏天！',sep = '')\n",
        "    elif(month >= 9 and month <= 11):\n",
        "        print(month,'月是秋天！',sep = '')\n",
        "    else:\n",
        "        print(month,'月是冬天！',sep = '')\n",
        "else:\n",
        "    print('月份不在範圍內！')"
      ],
      "metadata": {
        "colab": {
          "base_uri": "https://localhost:8080/"
        },
        "id": "ntj_PMO7rjPZ",
        "outputId": "f123b58c-2a69-43fe-bc8f-4f8225a4cb4d"
      },
      "execution_count": 35,
      "outputs": [
        {
          "output_type": "stream",
          "name": "stdout",
          "text": [
            "請輸入月份：7\n",
            "7月是夏天！\n"
          ]
        }
      ]
    },
    {
      "cell_type": "code",
      "source": [
        "income = int(input('請輸入今年收入淨額：'))\n",
        "if(income >= 300000):\n",
        "    if(income >= 2000000):\n",
        "        print('付稅金額：', income * 0.3 ,end='元\\n')\n",
        "    elif(income >= 1000000 ):\n",
        "        print('付稅金額：', income * 0.21 ,end='元\\n')\n",
        "    elif(income >= 600000 ):\n",
        "        print('付稅金額：', income * 0.13 ,end='元\\n')\n",
        "    else:\n",
        "        print('付稅金額：', income * 0.06 ,end='元\\n')\n",
        "else:\n",
        "    print('付稅金額：0元')"
      ],
      "metadata": {
        "colab": {
          "base_uri": "https://localhost:8080/"
        },
        "id": "vI714lkwtS1X",
        "outputId": "74c9f7f0-da37-4c9b-89ed-90aabfd59275"
      },
      "execution_count": 48,
      "outputs": [
        {
          "output_type": "stream",
          "name": "stdout",
          "text": [
            "請輸入今年收入淨額：100000\n",
            "付稅金額：0元\n"
          ]
        }
      ]
    }
  ]
}